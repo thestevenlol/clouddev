{
 "cells": [
  {
   "cell_type": "markdown",
   "metadata": {},
   "source": [
    "# Learning Python\n",
    "By Jack Foley \\\n",
    "SETU Carlow \\\n",
    "Software Development, 2023-2024"
   ]
  },
  {
   "cell_type": "markdown",
   "metadata": {},
   "source": [
    "### Python Classes"
   ]
  },
  {
   "cell_type": "code",
   "execution_count": 4,
   "metadata": {},
   "outputs": [
    {
     "name": "stdout",
     "output_type": "stream",
     "text": [
      "Moving...\n"
     ]
    }
   ],
   "source": [
    "\n",
    "# Class definition.\n",
    "class Human():\n",
    "\n",
    "    # Constructor.\n",
    "    def __init__(self, age):\n",
    "        self.age = age\n",
    "\n",
    "    # toString, essentially.\n",
    "    def __str__(self):\n",
    "        print('Human, age: ' + str(age))\n",
    "\n",
    "    # Custom function.\n",
    "    def move(self):\n",
    "        print(\"Moving...\")\n",
    "\n",
    "# Class initialisation.\n",
    "human = Human(20)\n",
    "human.move()\n",
    "    \n"
   ]
  },
  {
   "cell_type": "markdown",
   "metadata": {},
   "source": [
    "### Python Strings"
   ]
  },
  {
   "cell_type": "code",
   "execution_count": 18,
   "metadata": {},
   "outputs": [
    {
     "name": "stdout",
     "output_type": "stream",
     "text": [
      "ello, this is a message!\n",
      "Hel\n",
      "!egassem a si siht ,olleH\n"
     ]
    }
   ],
   "source": [
    "# Basic string definition.\n",
    "\n",
    "message = \"Hello, this is a message!\"\n",
    "#print(message)\n",
    "\n",
    "# String manipulation. Upper and lowercase.\n",
    "#\n",
    "upper = message.upper()\n",
    "lower = message.lower()\n",
    "#print(f\"Uppercase: {upper}\\nLower: {lower}\")\n",
    "\n",
    "# Print everything including and from the specified index.\n",
    "# Hello, this is a message\n",
    "#  #^^^^^^^^^^^^^^^^^^^^^^\n",
    "print(message[1:])\n",
    "\n",
    "# Print everything excluding and to the specified index.\n",
    "# Hello, this is a message\n",
    "# ^^^#\n",
    "print(message[:3])\n",
    "\n",
    "# Reversing is easy.\n",
    "print(message[::-1])"
   ]
  },
  {
   "cell_type": "code",
   "execution_count": 42,
   "metadata": {},
   "outputs": [
    {
     "name": "stdout",
     "output_type": "stream",
     "text": [
      "Name: jack\n",
      "Age: 20\n"
     ]
    }
   ],
   "source": [
    "import uuid\n",
    "import json\n",
    "import unittest\n",
    "\n",
    "class Person():\n",
    "    def __init__(self, name: str, age: int):\n",
    "        self.name = name\n",
    "        self.age = age\n",
    "        self.uuid = uuid.uuid4()\n",
    "\n",
    "class DB():\n",
    "    def __init__(self):\n",
    "        self.map = {}\n",
    "\n",
    "    def __str__(self):\n",
    "        return str(self.map)\n",
    "    \n",
    "    def put(self, person: Person):\n",
    "        self.map[str(person.uuid)] = {\n",
    "            \"name\": person.name,\n",
    "            \"age\": person.age\n",
    "        }\n",
    "\n",
    "    def fdump():\n",
    "        print(json.dumps(db.map, indent=4))\n",
    "\n",
    "    def get(self, uuid: uuid):\n",
    "        for k, v in self.map.items():\n",
    "            if(k == str(uuid)):\n",
    "                return v\n",
    "\n",
    "        return None\n",
    "\n",
    "class Tests():\n",
    "    def __init__(self):\n",
    "        pass\n",
    "\n",
    "    def test_person(person: Person):\n",
    "        \n",
    "\n",
    "db = DB()\n",
    "sean = Person(\"sean\", 22)\n",
    "jack = Person(\"jack\", 20)\n",
    "\n",
    "db.put(sean)\n",
    "db.put(jack)\n",
    "\n",
    "jack_data = db.get(jack.uuid)\n",
    "\n",
    "print(f'Name: {jack_data[\"name\"]}\\nAge: {jack_data[\"age\"]}')"
   ]
  }
 ],
 "metadata": {
  "kernelspec": {
   "display_name": "Python 3",
   "language": "python",
   "name": "python3"
  },
  "language_info": {
   "codemirror_mode": {
    "name": "ipython",
    "version": 3
   },
   "file_extension": ".py",
   "mimetype": "text/x-python",
   "name": "python",
   "nbconvert_exporter": "python",
   "pygments_lexer": "ipython3",
   "version": "3.11.0"
  },
  "orig_nbformat": 4
 },
 "nbformat": 4,
 "nbformat_minor": 2
}
