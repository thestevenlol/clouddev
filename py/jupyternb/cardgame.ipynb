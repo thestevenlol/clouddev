{
 "cells": [
  {
   "cell_type": "code",
   "execution_count": null,
   "metadata": {},
   "outputs": [
    {
     "name": "stdout",
     "output_type": "stream",
     "text": [
      "7 of Clubs\n",
      "55\n",
      "Queen of Spades\n",
      "54\n",
      "8 of Clubs\n",
      "53\n",
      "4 of Diamonds\n",
      "52\n"
     ]
    }
   ],
   "source": [
    "import random\n",
    "\n",
    "deck = []\n",
    "suits = (\"Clubs\", \"Diamonds\", \"Hearts\", \"Spades\")\n",
    "cards = (\n",
    "    \"Ace\",\n",
    "    1,\n",
    "    2,\n",
    "    3,\n",
    "    4,\n",
    "    5,\n",
    "    6,\n",
    "    7,\n",
    "    8,\n",
    "    9,\n",
    "    10,\n",
    "    \"Jack\",\n",
    "    \"Queen\",\n",
    "    \"King\"\n",
    ")\n",
    "\n",
    "\n",
    "for suit in suits:\n",
    "    for card in cards:\n",
    "        deck.append(f\"{card} of {suit}\")\n",
    "\n",
    "def draw():\n",
    "    choice = random.choice(deck)\n",
    "    deck.remove(choice)\n",
    "    return choice"
   ]
  },
  {
   "cell_type": "code",
   "execution_count": null,
   "metadata": {},
   "outputs": [],
   "source": []
  }
 ],
 "metadata": {
  "kernelspec": {
   "display_name": "Python 3",
   "language": "python",
   "name": "python3"
  },
  "language_info": {
   "codemirror_mode": {
    "name": "ipython",
    "version": 3
   },
   "file_extension": ".py",
   "mimetype": "text/x-python",
   "name": "python",
   "nbconvert_exporter": "python",
   "pygments_lexer": "ipython3",
   "version": "3.11.0rc1"
  },
  "orig_nbformat": 4
 },
 "nbformat": 4,
 "nbformat_minor": 2
}
