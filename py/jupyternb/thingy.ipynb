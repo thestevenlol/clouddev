{
 "cells": [
  {
   "cell_type": "code",
   "execution_count": 26,
   "metadata": {},
   "outputs": [
    {
     "data": {
      "text/plain": [
       "[(8, 2.0, 0, 16), (10, 2.5, 1, 25)]"
      ]
     },
     "execution_count": 26,
     "metadata": {},
     "output_type": "execute_result"
    }
   ],
   "source": [
    "nums = [1, 2, 3, 4, 5]\n",
    "doubled = []\n",
    "\n",
    "for num in nums:\n",
    "    doubled.append(num * 2)\n",
    "\n",
    "doubled2 = [(num * 2, num / 2, num % 2, num ** 2) for num in nums if num >= 4]\n",
    "\n",
    "doubled2"
   ]
  },
  {
   "cell_type": "code",
   "execution_count": 64,
   "metadata": {},
   "outputs": [
    {
     "name": "stdout",
     "output_type": "stream",
     "text": [
      "9227465\n"
     ]
    }
   ],
   "source": [
    "def factorial(n):\n",
    "    if n == 1:\n",
    "        return n\n",
    "    \n",
    "    return n * factorial(n - 1)\n",
    "\n",
    "def fib(n):\n",
    "    if n == 0:\n",
    "        return 0\n",
    "    elif n == 1:\n",
    "        return 1\n",
    "    \n",
    "    return (fib(n - 1) + fib(n - 2))\n",
    "\n",
    "# big = factorial(52)\n",
    "\n",
    "# mins = big / 60\n",
    "# hours = mins / 60\n",
    "# days = hours / 24\n",
    "# weeks = days / 7\n",
    "# months = days / 30\n",
    "# years = months / 12\n",
    "# decades = years / 10\n",
    "# centuries = decades / 10\n",
    "# millenia = centuries / 10\n",
    "\n",
    "# print(millenia)\n",
    "\n",
    "fibber = fib(35)\n",
    "print(fibber)"
   ]
  }
 ],
 "metadata": {
  "kernelspec": {
   "display_name": "Python 3",
   "language": "python",
   "name": "python3"
  },
  "language_info": {
   "codemirror_mode": {
    "name": "ipython",
    "version": 3
   },
   "file_extension": ".py",
   "mimetype": "text/x-python",
   "name": "python",
   "nbconvert_exporter": "python",
   "pygments_lexer": "ipython3",
   "version": "3.11.5"
  }
 },
 "nbformat": 4,
 "nbformat_minor": 2
}
