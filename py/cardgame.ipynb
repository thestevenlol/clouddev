{
 "cells": [
  {
   "cell_type": "code",
   "execution_count": 98,
   "metadata": {},
   "outputs": [
    {
     "name": "stdout",
     "output_type": "stream",
     "text": [
      "Matches: 13\n"
     ]
    }
   ],
   "source": [
    "import random\n",
    "\n",
    "suits = (\"clubs\", \"diamonds\", \"hearts\", \"spades\")\n",
    "cards = (\n",
    "    \"Ace\",\n",
    "    1,\n",
    "    2,\n",
    "    3,\n",
    "    4,\n",
    "    5,\n",
    "    6,\n",
    "    7,\n",
    "    8,\n",
    "    9,\n",
    "    10,\n",
    "    \"Jack\",\n",
    "    \"Queen\",\n",
    "    \"King\"\n",
    ")\n",
    "\n",
    "matches = 0\n",
    "last = None\n",
    "current = None\n",
    "for _ in range(500):\n",
    "    suit = random.randint(0, 3)\n",
    "    card = random.randint(0, 12)\n",
    "\n",
    "    last = current\n",
    "    current = f\"{cards[card]} of {suits[suit]}\"\n",
    "\n",
    "    if last == current:\n",
    "        matches = matches + 1\n",
    "\n",
    "print(f\"Matches: {matches}\")"
   ]
  }
 ],
 "metadata": {
  "kernelspec": {
   "display_name": "Python 3",
   "language": "python",
   "name": "python3"
  },
  "language_info": {
   "codemirror_mode": {
    "name": "ipython",
    "version": 3
   },
   "file_extension": ".py",
   "mimetype": "text/x-python",
   "name": "python",
   "nbconvert_exporter": "python",
   "pygments_lexer": "ipython3",
   "version": "3.11.0rc1"
  },
  "orig_nbformat": 4
 },
 "nbformat": 4,
 "nbformat_minor": 2
}
