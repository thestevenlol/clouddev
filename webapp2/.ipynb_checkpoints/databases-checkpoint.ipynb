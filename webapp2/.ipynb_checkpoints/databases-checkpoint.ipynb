{
 "cells": [
  {
   "cell_type": "code",
   "execution_count": 2,
   "outputs": [
    {
     "name": "stdout",
     "output_type": "stream",
     "text": [
      "[(1, 'Michael Phelps', 32), (2, 'Ryan Lochte', 33), (3, 'Nathan Adrian', 29), (4, 'Caeleb Dressel', 21)]\n"
     ]
    }
   ],
   "source": [
    "from DBcm import UseDatabase\n",
    "\n",
    "dbconfig = { \n",
    "                'host': 'localhost',\n",
    "                'user': 'admin',\n",
    "                'password': 'E=mcsquared3.1412pi',\n",
    "                'database': 'swimmers_webapp' \n",
    "             }\n",
    "\n",
    "with UseDatabase(dbconfig) as cursor:\n",
    "    \"\"\" insert 5 sample data into swimmers table\"\"\"\n",
    "    _SQL = \"insert into swimmers(name, age) values(%s, %s)\"    \n",
    "    cursor.execute(_SQL, ('Michael Phelps', 32))\n",
    "    cursor.execute(_SQL, ('Ryan Lochte', 33))\n",
    "    cursor.execute(_SQL, ('Nathan Adrian', 29))\n",
    "    cursor.execute(_SQL, ('Caeleb Dressel', 21))\n",
    "    \n",
    "    _SQL = \"select * from swimmers\"\n",
    "    cursor.execute(_SQL)\n",
    "    data = cursor.fetchall()\n",
    "    print(data)\n",
    "    \n",
    "    \n",
    "    "
   ],
   "metadata": {
    "collapsed": false,
    "ExecuteTime": {
     "end_time": "2023-11-20T14:33:13.611989344Z",
     "start_time": "2023-11-20T14:33:13.568685487Z"
    }
   },
   "id": "2e7c8cc3803ff467"
  }
 ],
 "metadata": {
  "kernelspec": {
   "display_name": "Python 3",
   "language": "python",
   "name": "python3"
  },
  "language_info": {
   "codemirror_mode": {
    "name": "ipython",
    "version": 2
   },
   "file_extension": ".py",
   "mimetype": "text/x-python",
   "name": "python",
   "nbconvert_exporter": "python",
   "pygments_lexer": "ipython2",
   "version": "2.7.6"
  }
 },
 "nbformat": 4,
 "nbformat_minor": 5
}
