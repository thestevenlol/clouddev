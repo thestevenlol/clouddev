{
 "cells": [
  {
   "cell_type": "code",
   "execution_count": 11,
   "outputs": [
    {
     "name": "stdout",
     "output_type": "stream",
     "text": [
      "2\n"
     ]
    }
   ],
   "source": [
    "from DBcm import UseDatabase\n",
    "\n",
    "dbconfig = { \n",
    "                'host': 'localhost',\n",
    "                'user': 'admin',\n",
    "                'password': 'E=mcsquared3.1412pi',\n",
    "                'database': 'swimmers_webapp' \n",
    "             }\n",
    "\n",
    "def get_swimmers():\n",
    "    with UseDatabase(dbconfig) as cursor:\n",
    "        _SQL = \"select * from swimmers\"\n",
    "        cursor.execute(_SQL)\n",
    "        data = cursor.fetchall()\n",
    "        return tuple(tuple(i) for x, i in enumerate(data))\n",
    "    \n",
    "def insert_swimmer(swimmer: tuple):\n",
    "    with UseDatabase(dbconfig) as cursor:\n",
    "            _SQL = \"insert into swimmers (name, age) values (%s, %s)\"\n",
    "            cursor.execute(_SQL, swimmer)\n",
    "          \n",
    "my_tuple = ('John', 23)      \n",
    "print(len(my_tuple))"
   ],
   "metadata": {
    "collapsed": false,
    "ExecuteTime": {
     "end_time": "2023-11-20T14:49:29.058078779Z",
     "start_time": "2023-11-20T14:49:29.053812240Z"
    }
   },
   "id": "2e7c8cc3803ff467"
  }
 ],
 "metadata": {
  "kernelspec": {
   "display_name": "Python 3",
   "language": "python",
   "name": "python3"
  },
  "language_info": {
   "codemirror_mode": {
    "name": "ipython",
    "version": 2
   },
   "file_extension": ".py",
   "mimetype": "text/x-python",
   "name": "python",
   "nbconvert_exporter": "python",
   "pygments_lexer": "ipython2",
   "version": "2.7.6"
  }
 },
 "nbformat": 4,
 "nbformat_minor": 5
}
