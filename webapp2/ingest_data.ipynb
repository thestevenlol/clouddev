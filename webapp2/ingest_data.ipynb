{
 "cells": [
  {
   "cell_type": "code",
   "execution_count": 95,
   "id": "21297644edc4eff6",
   "metadata": {
    "collapsed": false,
    "ExecuteTime": {
     "end_time": "2023-11-27T15:06:39.006049888Z",
     "start_time": "2023-11-27T15:06:38.965811718Z"
    }
   },
   "outputs": [],
   "source": [
    "from DBcm import UseDatabase\n",
    "import os\n",
    "from datetime import datetime, timedelta\n",
    "\n",
    "dataset_path = r\"\"\n",
    "\n",
    "\n",
    "def ingest(dataset, debug):\n",
    "    config = {\n",
    "        \"host\": \"localhost\",\n",
    "        \"database\": \"swimmers_webapp\",\n",
    "        \"user\": \"admin\",\n",
    "        \"password\": \"swimmerspwd\"\n",
    "    }\n",
    "\n",
    "    files = get_files(dataset)\n",
    "    if \".DS_Store\" in files:\n",
    "        files.remove(\".DS_Store\")\n",
    "\n",
    "\n",
    "    # start db connection\n",
    "    with UseDatabase(config) as cursor:\n",
    "        swimmer_data = set()\n",
    "        events = set()\n",
    "        \n",
    "        for f in files:\n",
    "            f = f.removesuffix(\".txt\")\n",
    "            name, age, distance, stroke = f.split(\"-\")\n",
    "            distance = distance.removesuffix(\"m\")\n",
    "            distance = int(distance)\n",
    "            \n",
    "            if (distance, stroke) not in events:\n",
    "                events.add((distance, stroke))\n",
    "                _SQL = f\"\"\"insert into events (distance, stroke) values ({distance}, '{stroke}');\"\"\"\n",
    "                cursor.execute(_SQL)\n",
    "            \n",
    "            if (name, age) not in swimmer_data:\n",
    "                swimmer_data.add((name, age))\n",
    "                _SQL = f\"\"\"insert into swimmers (name, age) values ('{name}', {age});\"\"\"\n",
    "                cursor.execute(_SQL)\n",
    "                \n",
    "            _SQL = f\"\"\"select id from swimmers where name = '{name}' and age = {int(age)};\"\"\"\n",
    "            cursor.execute(_SQL)\n",
    "            swimmer_id = cursor.fetchall()[0][0]\n",
    "            \n",
    "            _SQL = f\"\"\"select id from events where distance = {distance} and stroke = '{stroke}';\"\"\"\n",
    "            cursor.execute(_SQL)\n",
    "            event_id = cursor.fetchall()[0][0]\n",
    "\n",
    "            lines = read_file(dataset, f\"{f}.txt\")\n",
    "            for line in lines:\n",
    "                times = line.split(\",\")\n",
    "                for time in times:\n",
    "                    _SQL = f\"\"\"insert into times (swimmer_id, event_id, time) values ({swimmer_id}, {event_id}, '{time}');\"\"\"\n",
    "                    cursor.execute(_SQL)\n",
    "                \n",
    "            \n",
    "def get_files(dataset):\n",
    "    path = rf\"{dataset_path}{dataset}\"\n",
    "    return os.listdir(path)\n",
    "\n",
    "\n",
    "def read_file(dataset, filename):\n",
    "    path = rf\"{dataset_path}{dataset}/{filename}\"\n",
    "    with open(path) as f:\n",
    "        return f.readlines()\n",
    "\n",
    "\n",
    "ingest(\"dataset_2\", True)"
   ]
  }
 ],
 "metadata": {
  "kernelspec": {
   "display_name": "Python 3 (ipykernel)",
   "language": "python",
   "name": "python3"
  },
  "language_info": {
   "codemirror_mode": {
    "name": "ipython",
    "version": 3
   },
   "file_extension": ".py",
   "mimetype": "text/x-python",
   "name": "python",
   "nbconvert_exporter": "python",
   "pygments_lexer": "ipython3",
   "version": "3.11.6"
  }
 },
 "nbformat": 4,
 "nbformat_minor": 5
}
